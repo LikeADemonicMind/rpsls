{
  "cells": [
    {
      "cell_type": "markdown",
      "id": "398a6974-691e-45a0-9d57-ea13c39c3b1c",
      "metadata": {
        "id": "398a6974-691e-45a0-9d57-ea13c39c3b1c"
      },
      "source": [
        "# Pierre, papier, ciseaux, lézard, Spock : seconde partie"
      ]
    },
    {
      "cell_type": "markdown",
      "id": "5acad2bc-b67f-4875-a174-c97473fb0dca",
      "metadata": {
        "id": "5acad2bc-b67f-4875-a174-c97473fb0dca"
      },
      "source": [
        "## Importation des données"
      ]
    },
    {
      "cell_type": "code",
      "execution_count": 1,
      "id": "78483889-2383-4222-9be6-54d44203264b",
      "metadata": {
        "id": "78483889-2383-4222-9be6-54d44203264b"
      },
      "outputs": [],
      "source": [
        "import tensorflow as tf\n",
        "import matplotlib.pyplot as plt\n",
        "from sklearn.preprocessing import MinMaxScaler, StandardScaler\n",
        "import numpy as np\n",
        "from sklearn.metrics import confusion_matrix, classification_report\n",
        "from sklearn.metrics import accuracy_score, precision_score, recall_score\n",
        "import seaborn as sns\n",
        "import pandas as pd\n",
        "from sklearn.model_selection import train_test_split\n",
        "from keras.applications.vgg16 import VGG16, preprocess_input"
      ]
    },
    {
      "cell_type": "markdown",
      "id": "1b0a9df7-e56a-4bbb-b851-3c0ce6c3c9e3",
      "metadata": {
        "id": "1b0a9df7-e56a-4bbb-b851-3c0ce6c3c9e3"
      },
      "source": [
        "## Chargement des données"
      ]
    },
    {
      "cell_type": "code",
      "execution_count": 2,
      "id": "f4a71935-d949-43ab-ab63-59016c7936f7",
      "metadata": {
        "colab": {
          "base_uri": "https://localhost:8080/",
          "height": 424
        },
        "id": "f4a71935-d949-43ab-ab63-59016c7936f7",
        "outputId": "5f3913ae-102e-4f9f-b4c2-ef1a2c788b2d"
      },
      "outputs": [
        {
          "output_type": "execute_result",
          "data": {
            "text/plain": [
              "      label  1  2  3  4  5  6  7  8  9  ...  2491  2492  2493  2494  2495  \\\n",
              "0         1  0  0  0  0  0  0  0  0  1  ...     0     0     0     0     0   \n",
              "1         1  0  0  0  0  0  0  0  0  0  ...     0     0     0     0     0   \n",
              "2         1  0  0  0  0  0  0  0  0  0  ...     0     0     0     0     0   \n",
              "3         1  0  0  0  0  0  0  0  0  1  ...     0     0     0     0     0   \n",
              "4         1  0  0  0  0  0  0  0  0  0  ...     0     0     0     0     0   \n",
              "...     ... .. .. .. .. .. .. .. .. ..  ...   ...   ...   ...   ...   ...   \n",
              "3595      3  0  0  0  0  0  0  0  0  0  ...     0     0     0     0     0   \n",
              "3596      3  0  0  0  0  0  0  0  0  0  ...     0     0     0     0     0   \n",
              "3597      3  0  0  0  0  0  0  0  0  0  ...     0     0     0     0     0   \n",
              "3598      3  0  0  0  0  0  0  0  0  0  ...     0     0     0     0     0   \n",
              "3599      3  0  0  0  0  0  0  0  0  0  ...     0     0     0     0     0   \n",
              "\n",
              "      2496  2497  2498  2499  2500  \n",
              "0        0     0     0     0     0  \n",
              "1        0     0     0     0     0  \n",
              "2        0     0     0     0     0  \n",
              "3        0     0     0     0     0  \n",
              "4        0     0     0     0     0  \n",
              "...    ...   ...   ...   ...   ...  \n",
              "3595     0     0     0     0     0  \n",
              "3596     0     0     0     0     0  \n",
              "3597     0     0     0     0     0  \n",
              "3598     0     0     0     0     0  \n",
              "3599     0     0     0     0     0  \n",
              "\n",
              "[3600 rows x 2501 columns]"
            ],
            "text/html": [
              "\n",
              "  <div id=\"df-568eb285-6759-49be-af0c-45b22b30da46\" class=\"colab-df-container\">\n",
              "    <div>\n",
              "<style scoped>\n",
              "    .dataframe tbody tr th:only-of-type {\n",
              "        vertical-align: middle;\n",
              "    }\n",
              "\n",
              "    .dataframe tbody tr th {\n",
              "        vertical-align: top;\n",
              "    }\n",
              "\n",
              "    .dataframe thead th {\n",
              "        text-align: right;\n",
              "    }\n",
              "</style>\n",
              "<table border=\"1\" class=\"dataframe\">\n",
              "  <thead>\n",
              "    <tr style=\"text-align: right;\">\n",
              "      <th></th>\n",
              "      <th>label</th>\n",
              "      <th>1</th>\n",
              "      <th>2</th>\n",
              "      <th>3</th>\n",
              "      <th>4</th>\n",
              "      <th>5</th>\n",
              "      <th>6</th>\n",
              "      <th>7</th>\n",
              "      <th>8</th>\n",
              "      <th>9</th>\n",
              "      <th>...</th>\n",
              "      <th>2491</th>\n",
              "      <th>2492</th>\n",
              "      <th>2493</th>\n",
              "      <th>2494</th>\n",
              "      <th>2495</th>\n",
              "      <th>2496</th>\n",
              "      <th>2497</th>\n",
              "      <th>2498</th>\n",
              "      <th>2499</th>\n",
              "      <th>2500</th>\n",
              "    </tr>\n",
              "  </thead>\n",
              "  <tbody>\n",
              "    <tr>\n",
              "      <th>0</th>\n",
              "      <td>1</td>\n",
              "      <td>0</td>\n",
              "      <td>0</td>\n",
              "      <td>0</td>\n",
              "      <td>0</td>\n",
              "      <td>0</td>\n",
              "      <td>0</td>\n",
              "      <td>0</td>\n",
              "      <td>0</td>\n",
              "      <td>1</td>\n",
              "      <td>...</td>\n",
              "      <td>0</td>\n",
              "      <td>0</td>\n",
              "      <td>0</td>\n",
              "      <td>0</td>\n",
              "      <td>0</td>\n",
              "      <td>0</td>\n",
              "      <td>0</td>\n",
              "      <td>0</td>\n",
              "      <td>0</td>\n",
              "      <td>0</td>\n",
              "    </tr>\n",
              "    <tr>\n",
              "      <th>1</th>\n",
              "      <td>1</td>\n",
              "      <td>0</td>\n",
              "      <td>0</td>\n",
              "      <td>0</td>\n",
              "      <td>0</td>\n",
              "      <td>0</td>\n",
              "      <td>0</td>\n",
              "      <td>0</td>\n",
              "      <td>0</td>\n",
              "      <td>0</td>\n",
              "      <td>...</td>\n",
              "      <td>0</td>\n",
              "      <td>0</td>\n",
              "      <td>0</td>\n",
              "      <td>0</td>\n",
              "      <td>0</td>\n",
              "      <td>0</td>\n",
              "      <td>0</td>\n",
              "      <td>0</td>\n",
              "      <td>0</td>\n",
              "      <td>0</td>\n",
              "    </tr>\n",
              "    <tr>\n",
              "      <th>2</th>\n",
              "      <td>1</td>\n",
              "      <td>0</td>\n",
              "      <td>0</td>\n",
              "      <td>0</td>\n",
              "      <td>0</td>\n",
              "      <td>0</td>\n",
              "      <td>0</td>\n",
              "      <td>0</td>\n",
              "      <td>0</td>\n",
              "      <td>0</td>\n",
              "      <td>...</td>\n",
              "      <td>0</td>\n",
              "      <td>0</td>\n",
              "      <td>0</td>\n",
              "      <td>0</td>\n",
              "      <td>0</td>\n",
              "      <td>0</td>\n",
              "      <td>0</td>\n",
              "      <td>0</td>\n",
              "      <td>0</td>\n",
              "      <td>0</td>\n",
              "    </tr>\n",
              "    <tr>\n",
              "      <th>3</th>\n",
              "      <td>1</td>\n",
              "      <td>0</td>\n",
              "      <td>0</td>\n",
              "      <td>0</td>\n",
              "      <td>0</td>\n",
              "      <td>0</td>\n",
              "      <td>0</td>\n",
              "      <td>0</td>\n",
              "      <td>0</td>\n",
              "      <td>1</td>\n",
              "      <td>...</td>\n",
              "      <td>0</td>\n",
              "      <td>0</td>\n",
              "      <td>0</td>\n",
              "      <td>0</td>\n",
              "      <td>0</td>\n",
              "      <td>0</td>\n",
              "      <td>0</td>\n",
              "      <td>0</td>\n",
              "      <td>0</td>\n",
              "      <td>0</td>\n",
              "    </tr>\n",
              "    <tr>\n",
              "      <th>4</th>\n",
              "      <td>1</td>\n",
              "      <td>0</td>\n",
              "      <td>0</td>\n",
              "      <td>0</td>\n",
              "      <td>0</td>\n",
              "      <td>0</td>\n",
              "      <td>0</td>\n",
              "      <td>0</td>\n",
              "      <td>0</td>\n",
              "      <td>0</td>\n",
              "      <td>...</td>\n",
              "      <td>0</td>\n",
              "      <td>0</td>\n",
              "      <td>0</td>\n",
              "      <td>0</td>\n",
              "      <td>0</td>\n",
              "      <td>0</td>\n",
              "      <td>0</td>\n",
              "      <td>0</td>\n",
              "      <td>0</td>\n",
              "      <td>0</td>\n",
              "    </tr>\n",
              "    <tr>\n",
              "      <th>...</th>\n",
              "      <td>...</td>\n",
              "      <td>...</td>\n",
              "      <td>...</td>\n",
              "      <td>...</td>\n",
              "      <td>...</td>\n",
              "      <td>...</td>\n",
              "      <td>...</td>\n",
              "      <td>...</td>\n",
              "      <td>...</td>\n",
              "      <td>...</td>\n",
              "      <td>...</td>\n",
              "      <td>...</td>\n",
              "      <td>...</td>\n",
              "      <td>...</td>\n",
              "      <td>...</td>\n",
              "      <td>...</td>\n",
              "      <td>...</td>\n",
              "      <td>...</td>\n",
              "      <td>...</td>\n",
              "      <td>...</td>\n",
              "      <td>...</td>\n",
              "    </tr>\n",
              "    <tr>\n",
              "      <th>3595</th>\n",
              "      <td>3</td>\n",
              "      <td>0</td>\n",
              "      <td>0</td>\n",
              "      <td>0</td>\n",
              "      <td>0</td>\n",
              "      <td>0</td>\n",
              "      <td>0</td>\n",
              "      <td>0</td>\n",
              "      <td>0</td>\n",
              "      <td>0</td>\n",
              "      <td>...</td>\n",
              "      <td>0</td>\n",
              "      <td>0</td>\n",
              "      <td>0</td>\n",
              "      <td>0</td>\n",
              "      <td>0</td>\n",
              "      <td>0</td>\n",
              "      <td>0</td>\n",
              "      <td>0</td>\n",
              "      <td>0</td>\n",
              "      <td>0</td>\n",
              "    </tr>\n",
              "    <tr>\n",
              "      <th>3596</th>\n",
              "      <td>3</td>\n",
              "      <td>0</td>\n",
              "      <td>0</td>\n",
              "      <td>0</td>\n",
              "      <td>0</td>\n",
              "      <td>0</td>\n",
              "      <td>0</td>\n",
              "      <td>0</td>\n",
              "      <td>0</td>\n",
              "      <td>0</td>\n",
              "      <td>...</td>\n",
              "      <td>0</td>\n",
              "      <td>0</td>\n",
              "      <td>0</td>\n",
              "      <td>0</td>\n",
              "      <td>0</td>\n",
              "      <td>0</td>\n",
              "      <td>0</td>\n",
              "      <td>0</td>\n",
              "      <td>0</td>\n",
              "      <td>0</td>\n",
              "    </tr>\n",
              "    <tr>\n",
              "      <th>3597</th>\n",
              "      <td>3</td>\n",
              "      <td>0</td>\n",
              "      <td>0</td>\n",
              "      <td>0</td>\n",
              "      <td>0</td>\n",
              "      <td>0</td>\n",
              "      <td>0</td>\n",
              "      <td>0</td>\n",
              "      <td>0</td>\n",
              "      <td>0</td>\n",
              "      <td>...</td>\n",
              "      <td>0</td>\n",
              "      <td>0</td>\n",
              "      <td>0</td>\n",
              "      <td>0</td>\n",
              "      <td>0</td>\n",
              "      <td>0</td>\n",
              "      <td>0</td>\n",
              "      <td>0</td>\n",
              "      <td>0</td>\n",
              "      <td>0</td>\n",
              "    </tr>\n",
              "    <tr>\n",
              "      <th>3598</th>\n",
              "      <td>3</td>\n",
              "      <td>0</td>\n",
              "      <td>0</td>\n",
              "      <td>0</td>\n",
              "      <td>0</td>\n",
              "      <td>0</td>\n",
              "      <td>0</td>\n",
              "      <td>0</td>\n",
              "      <td>0</td>\n",
              "      <td>0</td>\n",
              "      <td>...</td>\n",
              "      <td>0</td>\n",
              "      <td>0</td>\n",
              "      <td>0</td>\n",
              "      <td>0</td>\n",
              "      <td>0</td>\n",
              "      <td>0</td>\n",
              "      <td>0</td>\n",
              "      <td>0</td>\n",
              "      <td>0</td>\n",
              "      <td>0</td>\n",
              "    </tr>\n",
              "    <tr>\n",
              "      <th>3599</th>\n",
              "      <td>3</td>\n",
              "      <td>0</td>\n",
              "      <td>0</td>\n",
              "      <td>0</td>\n",
              "      <td>0</td>\n",
              "      <td>0</td>\n",
              "      <td>0</td>\n",
              "      <td>0</td>\n",
              "      <td>0</td>\n",
              "      <td>0</td>\n",
              "      <td>...</td>\n",
              "      <td>0</td>\n",
              "      <td>0</td>\n",
              "      <td>0</td>\n",
              "      <td>0</td>\n",
              "      <td>0</td>\n",
              "      <td>0</td>\n",
              "      <td>0</td>\n",
              "      <td>0</td>\n",
              "      <td>0</td>\n",
              "      <td>0</td>\n",
              "    </tr>\n",
              "  </tbody>\n",
              "</table>\n",
              "<p>3600 rows × 2501 columns</p>\n",
              "</div>\n",
              "    <div class=\"colab-df-buttons\">\n",
              "\n",
              "  <div class=\"colab-df-container\">\n",
              "    <button class=\"colab-df-convert\" onclick=\"convertToInteractive('df-568eb285-6759-49be-af0c-45b22b30da46')\"\n",
              "            title=\"Convert this dataframe to an interactive table.\"\n",
              "            style=\"display:none;\">\n",
              "\n",
              "  <svg xmlns=\"http://www.w3.org/2000/svg\" height=\"24px\" viewBox=\"0 -960 960 960\">\n",
              "    <path d=\"M120-120v-720h720v720H120Zm60-500h600v-160H180v160Zm220 220h160v-160H400v160Zm0 220h160v-160H400v160ZM180-400h160v-160H180v160Zm440 0h160v-160H620v160ZM180-180h160v-160H180v160Zm440 0h160v-160H620v160Z\"/>\n",
              "  </svg>\n",
              "    </button>\n",
              "\n",
              "  <style>\n",
              "    .colab-df-container {\n",
              "      display:flex;\n",
              "      gap: 12px;\n",
              "    }\n",
              "\n",
              "    .colab-df-convert {\n",
              "      background-color: #E8F0FE;\n",
              "      border: none;\n",
              "      border-radius: 50%;\n",
              "      cursor: pointer;\n",
              "      display: none;\n",
              "      fill: #1967D2;\n",
              "      height: 32px;\n",
              "      padding: 0 0 0 0;\n",
              "      width: 32px;\n",
              "    }\n",
              "\n",
              "    .colab-df-convert:hover {\n",
              "      background-color: #E2EBFA;\n",
              "      box-shadow: 0px 1px 2px rgba(60, 64, 67, 0.3), 0px 1px 3px 1px rgba(60, 64, 67, 0.15);\n",
              "      fill: #174EA6;\n",
              "    }\n",
              "\n",
              "    .colab-df-buttons div {\n",
              "      margin-bottom: 4px;\n",
              "    }\n",
              "\n",
              "    [theme=dark] .colab-df-convert {\n",
              "      background-color: #3B4455;\n",
              "      fill: #D2E3FC;\n",
              "    }\n",
              "\n",
              "    [theme=dark] .colab-df-convert:hover {\n",
              "      background-color: #434B5C;\n",
              "      box-shadow: 0px 1px 3px 1px rgba(0, 0, 0, 0.15);\n",
              "      filter: drop-shadow(0px 1px 2px rgba(0, 0, 0, 0.3));\n",
              "      fill: #FFFFFF;\n",
              "    }\n",
              "  </style>\n",
              "\n",
              "    <script>\n",
              "      const buttonEl =\n",
              "        document.querySelector('#df-568eb285-6759-49be-af0c-45b22b30da46 button.colab-df-convert');\n",
              "      buttonEl.style.display =\n",
              "        google.colab.kernel.accessAllowed ? 'block' : 'none';\n",
              "\n",
              "      async function convertToInteractive(key) {\n",
              "        const element = document.querySelector('#df-568eb285-6759-49be-af0c-45b22b30da46');\n",
              "        const dataTable =\n",
              "          await google.colab.kernel.invokeFunction('convertToInteractive',\n",
              "                                                    [key], {});\n",
              "        if (!dataTable) return;\n",
              "\n",
              "        const docLinkHtml = 'Like what you see? Visit the ' +\n",
              "          '<a target=\"_blank\" href=https://colab.research.google.com/notebooks/data_table.ipynb>data table notebook</a>'\n",
              "          + ' to learn more about interactive tables.';\n",
              "        element.innerHTML = '';\n",
              "        dataTable['output_type'] = 'display_data';\n",
              "        await google.colab.output.renderOutput(dataTable, element);\n",
              "        const docLink = document.createElement('div');\n",
              "        docLink.innerHTML = docLinkHtml;\n",
              "        element.appendChild(docLink);\n",
              "      }\n",
              "    </script>\n",
              "  </div>\n",
              "\n",
              "\n",
              "<div id=\"df-21e454bf-365b-4d25-a409-86ed6c5d0d82\">\n",
              "  <button class=\"colab-df-quickchart\" onclick=\"quickchart('df-21e454bf-365b-4d25-a409-86ed6c5d0d82')\"\n",
              "            title=\"Suggest charts\"\n",
              "            style=\"display:none;\">\n",
              "\n",
              "<svg xmlns=\"http://www.w3.org/2000/svg\" height=\"24px\"viewBox=\"0 0 24 24\"\n",
              "     width=\"24px\">\n",
              "    <g>\n",
              "        <path d=\"M19 3H5c-1.1 0-2 .9-2 2v14c0 1.1.9 2 2 2h14c1.1 0 2-.9 2-2V5c0-1.1-.9-2-2-2zM9 17H7v-7h2v7zm4 0h-2V7h2v10zm4 0h-2v-4h2v4z\"/>\n",
              "    </g>\n",
              "</svg>\n",
              "  </button>\n",
              "\n",
              "<style>\n",
              "  .colab-df-quickchart {\n",
              "      --bg-color: #E8F0FE;\n",
              "      --fill-color: #1967D2;\n",
              "      --hover-bg-color: #E2EBFA;\n",
              "      --hover-fill-color: #174EA6;\n",
              "      --disabled-fill-color: #AAA;\n",
              "      --disabled-bg-color: #DDD;\n",
              "  }\n",
              "\n",
              "  [theme=dark] .colab-df-quickchart {\n",
              "      --bg-color: #3B4455;\n",
              "      --fill-color: #D2E3FC;\n",
              "      --hover-bg-color: #434B5C;\n",
              "      --hover-fill-color: #FFFFFF;\n",
              "      --disabled-bg-color: #3B4455;\n",
              "      --disabled-fill-color: #666;\n",
              "  }\n",
              "\n",
              "  .colab-df-quickchart {\n",
              "    background-color: var(--bg-color);\n",
              "    border: none;\n",
              "    border-radius: 50%;\n",
              "    cursor: pointer;\n",
              "    display: none;\n",
              "    fill: var(--fill-color);\n",
              "    height: 32px;\n",
              "    padding: 0;\n",
              "    width: 32px;\n",
              "  }\n",
              "\n",
              "  .colab-df-quickchart:hover {\n",
              "    background-color: var(--hover-bg-color);\n",
              "    box-shadow: 0 1px 2px rgba(60, 64, 67, 0.3), 0 1px 3px 1px rgba(60, 64, 67, 0.15);\n",
              "    fill: var(--button-hover-fill-color);\n",
              "  }\n",
              "\n",
              "  .colab-df-quickchart-complete:disabled,\n",
              "  .colab-df-quickchart-complete:disabled:hover {\n",
              "    background-color: var(--disabled-bg-color);\n",
              "    fill: var(--disabled-fill-color);\n",
              "    box-shadow: none;\n",
              "  }\n",
              "\n",
              "  .colab-df-spinner {\n",
              "    border: 2px solid var(--fill-color);\n",
              "    border-color: transparent;\n",
              "    border-bottom-color: var(--fill-color);\n",
              "    animation:\n",
              "      spin 1s steps(1) infinite;\n",
              "  }\n",
              "\n",
              "  @keyframes spin {\n",
              "    0% {\n",
              "      border-color: transparent;\n",
              "      border-bottom-color: var(--fill-color);\n",
              "      border-left-color: var(--fill-color);\n",
              "    }\n",
              "    20% {\n",
              "      border-color: transparent;\n",
              "      border-left-color: var(--fill-color);\n",
              "      border-top-color: var(--fill-color);\n",
              "    }\n",
              "    30% {\n",
              "      border-color: transparent;\n",
              "      border-left-color: var(--fill-color);\n",
              "      border-top-color: var(--fill-color);\n",
              "      border-right-color: var(--fill-color);\n",
              "    }\n",
              "    40% {\n",
              "      border-color: transparent;\n",
              "      border-right-color: var(--fill-color);\n",
              "      border-top-color: var(--fill-color);\n",
              "    }\n",
              "    60% {\n",
              "      border-color: transparent;\n",
              "      border-right-color: var(--fill-color);\n",
              "    }\n",
              "    80% {\n",
              "      border-color: transparent;\n",
              "      border-right-color: var(--fill-color);\n",
              "      border-bottom-color: var(--fill-color);\n",
              "    }\n",
              "    90% {\n",
              "      border-color: transparent;\n",
              "      border-bottom-color: var(--fill-color);\n",
              "    }\n",
              "  }\n",
              "</style>\n",
              "\n",
              "  <script>\n",
              "    async function quickchart(key) {\n",
              "      const quickchartButtonEl =\n",
              "        document.querySelector('#' + key + ' button');\n",
              "      quickchartButtonEl.disabled = true;  // To prevent multiple clicks.\n",
              "      quickchartButtonEl.classList.add('colab-df-spinner');\n",
              "      try {\n",
              "        const charts = await google.colab.kernel.invokeFunction(\n",
              "            'suggestCharts', [key], {});\n",
              "      } catch (error) {\n",
              "        console.error('Error during call to suggestCharts:', error);\n",
              "      }\n",
              "      quickchartButtonEl.classList.remove('colab-df-spinner');\n",
              "      quickchartButtonEl.classList.add('colab-df-quickchart-complete');\n",
              "    }\n",
              "    (() => {\n",
              "      let quickchartButtonEl =\n",
              "        document.querySelector('#df-21e454bf-365b-4d25-a409-86ed6c5d0d82 button');\n",
              "      quickchartButtonEl.style.display =\n",
              "        google.colab.kernel.accessAllowed ? 'block' : 'none';\n",
              "    })();\n",
              "  </script>\n",
              "</div>\n",
              "    </div>\n",
              "  </div>\n"
            ]
          },
          "metadata": {},
          "execution_count": 2
        }
      ],
      "source": [
        "dataset = pd.read_csv('rps.csv')\n",
        "dataset"
      ]
    },
    {
      "cell_type": "code",
      "execution_count": 3,
      "id": "422e12ec-4c62-427f-8397-a1ab4dea1bc6",
      "metadata": {
        "colab": {
          "base_uri": "https://localhost:8080/",
          "height": 424
        },
        "id": "422e12ec-4c62-427f-8397-a1ab4dea1bc6",
        "outputId": "df5cc5f5-f867-433c-86d3-33b854e3f224"
      },
      "outputs": [
        {
          "output_type": "execute_result",
          "data": {
            "text/plain": [
              "      1  2  3  4  5  6  7  8  9  10  ...  2491  2492  2493  2494  2495  2496  \\\n",
              "0     0  0  0  0  0  0  0  0  1   0  ...     0     0     0     0     0     0   \n",
              "1     0  0  0  0  0  0  0  0  0   2  ...     0     0     0     0     0     0   \n",
              "2     0  0  0  0  0  0  0  0  0   1  ...     0     0     0     0     0     0   \n",
              "3     0  0  0  0  0  0  0  0  1   1  ...     0     0     0     0     0     0   \n",
              "4     0  0  0  0  0  0  0  0  0   0  ...     0     0     0     0     0     0   \n",
              "...  .. .. .. .. .. .. .. .. ..  ..  ...   ...   ...   ...   ...   ...   ...   \n",
              "3595  0  0  0  0  0  0  0  0  0   4  ...     0     0     0     0     0     0   \n",
              "3596  0  0  0  0  0  0  0  0  0   1  ...     0     0     0     0     0     0   \n",
              "3597  0  0  0  0  0  0  0  0  0   0  ...     0     0     0     0     0     0   \n",
              "3598  0  0  0  0  0  0  0  0  0   1  ...     0     0     0     0     0     0   \n",
              "3599  0  0  0  0  0  0  0  0  0   0  ...     0     0     0     0     0     0   \n",
              "\n",
              "      2497  2498  2499  2500  \n",
              "0        0     0     0     0  \n",
              "1        0     0     0     0  \n",
              "2        0     0     0     0  \n",
              "3        0     0     0     0  \n",
              "4        0     0     0     0  \n",
              "...    ...   ...   ...   ...  \n",
              "3595     0     0     0     0  \n",
              "3596     0     0     0     0  \n",
              "3597     0     0     0     0  \n",
              "3598     0     0     0     0  \n",
              "3599     0     0     0     0  \n",
              "\n",
              "[3600 rows x 2500 columns]"
            ],
            "text/html": [
              "\n",
              "  <div id=\"df-2a7cbf03-0e33-4393-a64e-039b52266fa9\" class=\"colab-df-container\">\n",
              "    <div>\n",
              "<style scoped>\n",
              "    .dataframe tbody tr th:only-of-type {\n",
              "        vertical-align: middle;\n",
              "    }\n",
              "\n",
              "    .dataframe tbody tr th {\n",
              "        vertical-align: top;\n",
              "    }\n",
              "\n",
              "    .dataframe thead th {\n",
              "        text-align: right;\n",
              "    }\n",
              "</style>\n",
              "<table border=\"1\" class=\"dataframe\">\n",
              "  <thead>\n",
              "    <tr style=\"text-align: right;\">\n",
              "      <th></th>\n",
              "      <th>1</th>\n",
              "      <th>2</th>\n",
              "      <th>3</th>\n",
              "      <th>4</th>\n",
              "      <th>5</th>\n",
              "      <th>6</th>\n",
              "      <th>7</th>\n",
              "      <th>8</th>\n",
              "      <th>9</th>\n",
              "      <th>10</th>\n",
              "      <th>...</th>\n",
              "      <th>2491</th>\n",
              "      <th>2492</th>\n",
              "      <th>2493</th>\n",
              "      <th>2494</th>\n",
              "      <th>2495</th>\n",
              "      <th>2496</th>\n",
              "      <th>2497</th>\n",
              "      <th>2498</th>\n",
              "      <th>2499</th>\n",
              "      <th>2500</th>\n",
              "    </tr>\n",
              "  </thead>\n",
              "  <tbody>\n",
              "    <tr>\n",
              "      <th>0</th>\n",
              "      <td>0</td>\n",
              "      <td>0</td>\n",
              "      <td>0</td>\n",
              "      <td>0</td>\n",
              "      <td>0</td>\n",
              "      <td>0</td>\n",
              "      <td>0</td>\n",
              "      <td>0</td>\n",
              "      <td>1</td>\n",
              "      <td>0</td>\n",
              "      <td>...</td>\n",
              "      <td>0</td>\n",
              "      <td>0</td>\n",
              "      <td>0</td>\n",
              "      <td>0</td>\n",
              "      <td>0</td>\n",
              "      <td>0</td>\n",
              "      <td>0</td>\n",
              "      <td>0</td>\n",
              "      <td>0</td>\n",
              "      <td>0</td>\n",
              "    </tr>\n",
              "    <tr>\n",
              "      <th>1</th>\n",
              "      <td>0</td>\n",
              "      <td>0</td>\n",
              "      <td>0</td>\n",
              "      <td>0</td>\n",
              "      <td>0</td>\n",
              "      <td>0</td>\n",
              "      <td>0</td>\n",
              "      <td>0</td>\n",
              "      <td>0</td>\n",
              "      <td>2</td>\n",
              "      <td>...</td>\n",
              "      <td>0</td>\n",
              "      <td>0</td>\n",
              "      <td>0</td>\n",
              "      <td>0</td>\n",
              "      <td>0</td>\n",
              "      <td>0</td>\n",
              "      <td>0</td>\n",
              "      <td>0</td>\n",
              "      <td>0</td>\n",
              "      <td>0</td>\n",
              "    </tr>\n",
              "    <tr>\n",
              "      <th>2</th>\n",
              "      <td>0</td>\n",
              "      <td>0</td>\n",
              "      <td>0</td>\n",
              "      <td>0</td>\n",
              "      <td>0</td>\n",
              "      <td>0</td>\n",
              "      <td>0</td>\n",
              "      <td>0</td>\n",
              "      <td>0</td>\n",
              "      <td>1</td>\n",
              "      <td>...</td>\n",
              "      <td>0</td>\n",
              "      <td>0</td>\n",
              "      <td>0</td>\n",
              "      <td>0</td>\n",
              "      <td>0</td>\n",
              "      <td>0</td>\n",
              "      <td>0</td>\n",
              "      <td>0</td>\n",
              "      <td>0</td>\n",
              "      <td>0</td>\n",
              "    </tr>\n",
              "    <tr>\n",
              "      <th>3</th>\n",
              "      <td>0</td>\n",
              "      <td>0</td>\n",
              "      <td>0</td>\n",
              "      <td>0</td>\n",
              "      <td>0</td>\n",
              "      <td>0</td>\n",
              "      <td>0</td>\n",
              "      <td>0</td>\n",
              "      <td>1</td>\n",
              "      <td>1</td>\n",
              "      <td>...</td>\n",
              "      <td>0</td>\n",
              "      <td>0</td>\n",
              "      <td>0</td>\n",
              "      <td>0</td>\n",
              "      <td>0</td>\n",
              "      <td>0</td>\n",
              "      <td>0</td>\n",
              "      <td>0</td>\n",
              "      <td>0</td>\n",
              "      <td>0</td>\n",
              "    </tr>\n",
              "    <tr>\n",
              "      <th>4</th>\n",
              "      <td>0</td>\n",
              "      <td>0</td>\n",
              "      <td>0</td>\n",
              "      <td>0</td>\n",
              "      <td>0</td>\n",
              "      <td>0</td>\n",
              "      <td>0</td>\n",
              "      <td>0</td>\n",
              "      <td>0</td>\n",
              "      <td>0</td>\n",
              "      <td>...</td>\n",
              "      <td>0</td>\n",
              "      <td>0</td>\n",
              "      <td>0</td>\n",
              "      <td>0</td>\n",
              "      <td>0</td>\n",
              "      <td>0</td>\n",
              "      <td>0</td>\n",
              "      <td>0</td>\n",
              "      <td>0</td>\n",
              "      <td>0</td>\n",
              "    </tr>\n",
              "    <tr>\n",
              "      <th>...</th>\n",
              "      <td>...</td>\n",
              "      <td>...</td>\n",
              "      <td>...</td>\n",
              "      <td>...</td>\n",
              "      <td>...</td>\n",
              "      <td>...</td>\n",
              "      <td>...</td>\n",
              "      <td>...</td>\n",
              "      <td>...</td>\n",
              "      <td>...</td>\n",
              "      <td>...</td>\n",
              "      <td>...</td>\n",
              "      <td>...</td>\n",
              "      <td>...</td>\n",
              "      <td>...</td>\n",
              "      <td>...</td>\n",
              "      <td>...</td>\n",
              "      <td>...</td>\n",
              "      <td>...</td>\n",
              "      <td>...</td>\n",
              "      <td>...</td>\n",
              "    </tr>\n",
              "    <tr>\n",
              "      <th>3595</th>\n",
              "      <td>0</td>\n",
              "      <td>0</td>\n",
              "      <td>0</td>\n",
              "      <td>0</td>\n",
              "      <td>0</td>\n",
              "      <td>0</td>\n",
              "      <td>0</td>\n",
              "      <td>0</td>\n",
              "      <td>0</td>\n",
              "      <td>4</td>\n",
              "      <td>...</td>\n",
              "      <td>0</td>\n",
              "      <td>0</td>\n",
              "      <td>0</td>\n",
              "      <td>0</td>\n",
              "      <td>0</td>\n",
              "      <td>0</td>\n",
              "      <td>0</td>\n",
              "      <td>0</td>\n",
              "      <td>0</td>\n",
              "      <td>0</td>\n",
              "    </tr>\n",
              "    <tr>\n",
              "      <th>3596</th>\n",
              "      <td>0</td>\n",
              "      <td>0</td>\n",
              "      <td>0</td>\n",
              "      <td>0</td>\n",
              "      <td>0</td>\n",
              "      <td>0</td>\n",
              "      <td>0</td>\n",
              "      <td>0</td>\n",
              "      <td>0</td>\n",
              "      <td>1</td>\n",
              "      <td>...</td>\n",
              "      <td>0</td>\n",
              "      <td>0</td>\n",
              "      <td>0</td>\n",
              "      <td>0</td>\n",
              "      <td>0</td>\n",
              "      <td>0</td>\n",
              "      <td>0</td>\n",
              "      <td>0</td>\n",
              "      <td>0</td>\n",
              "      <td>0</td>\n",
              "    </tr>\n",
              "    <tr>\n",
              "      <th>3597</th>\n",
              "      <td>0</td>\n",
              "      <td>0</td>\n",
              "      <td>0</td>\n",
              "      <td>0</td>\n",
              "      <td>0</td>\n",
              "      <td>0</td>\n",
              "      <td>0</td>\n",
              "      <td>0</td>\n",
              "      <td>0</td>\n",
              "      <td>0</td>\n",
              "      <td>...</td>\n",
              "      <td>0</td>\n",
              "      <td>0</td>\n",
              "      <td>0</td>\n",
              "      <td>0</td>\n",
              "      <td>0</td>\n",
              "      <td>0</td>\n",
              "      <td>0</td>\n",
              "      <td>0</td>\n",
              "      <td>0</td>\n",
              "      <td>0</td>\n",
              "    </tr>\n",
              "    <tr>\n",
              "      <th>3598</th>\n",
              "      <td>0</td>\n",
              "      <td>0</td>\n",
              "      <td>0</td>\n",
              "      <td>0</td>\n",
              "      <td>0</td>\n",
              "      <td>0</td>\n",
              "      <td>0</td>\n",
              "      <td>0</td>\n",
              "      <td>0</td>\n",
              "      <td>1</td>\n",
              "      <td>...</td>\n",
              "      <td>0</td>\n",
              "      <td>0</td>\n",
              "      <td>0</td>\n",
              "      <td>0</td>\n",
              "      <td>0</td>\n",
              "      <td>0</td>\n",
              "      <td>0</td>\n",
              "      <td>0</td>\n",
              "      <td>0</td>\n",
              "      <td>0</td>\n",
              "    </tr>\n",
              "    <tr>\n",
              "      <th>3599</th>\n",
              "      <td>0</td>\n",
              "      <td>0</td>\n",
              "      <td>0</td>\n",
              "      <td>0</td>\n",
              "      <td>0</td>\n",
              "      <td>0</td>\n",
              "      <td>0</td>\n",
              "      <td>0</td>\n",
              "      <td>0</td>\n",
              "      <td>0</td>\n",
              "      <td>...</td>\n",
              "      <td>0</td>\n",
              "      <td>0</td>\n",
              "      <td>0</td>\n",
              "      <td>0</td>\n",
              "      <td>0</td>\n",
              "      <td>0</td>\n",
              "      <td>0</td>\n",
              "      <td>0</td>\n",
              "      <td>0</td>\n",
              "      <td>0</td>\n",
              "    </tr>\n",
              "  </tbody>\n",
              "</table>\n",
              "<p>3600 rows × 2500 columns</p>\n",
              "</div>\n",
              "    <div class=\"colab-df-buttons\">\n",
              "\n",
              "  <div class=\"colab-df-container\">\n",
              "    <button class=\"colab-df-convert\" onclick=\"convertToInteractive('df-2a7cbf03-0e33-4393-a64e-039b52266fa9')\"\n",
              "            title=\"Convert this dataframe to an interactive table.\"\n",
              "            style=\"display:none;\">\n",
              "\n",
              "  <svg xmlns=\"http://www.w3.org/2000/svg\" height=\"24px\" viewBox=\"0 -960 960 960\">\n",
              "    <path d=\"M120-120v-720h720v720H120Zm60-500h600v-160H180v160Zm220 220h160v-160H400v160Zm0 220h160v-160H400v160ZM180-400h160v-160H180v160Zm440 0h160v-160H620v160ZM180-180h160v-160H180v160Zm440 0h160v-160H620v160Z\"/>\n",
              "  </svg>\n",
              "    </button>\n",
              "\n",
              "  <style>\n",
              "    .colab-df-container {\n",
              "      display:flex;\n",
              "      gap: 12px;\n",
              "    }\n",
              "\n",
              "    .colab-df-convert {\n",
              "      background-color: #E8F0FE;\n",
              "      border: none;\n",
              "      border-radius: 50%;\n",
              "      cursor: pointer;\n",
              "      display: none;\n",
              "      fill: #1967D2;\n",
              "      height: 32px;\n",
              "      padding: 0 0 0 0;\n",
              "      width: 32px;\n",
              "    }\n",
              "\n",
              "    .colab-df-convert:hover {\n",
              "      background-color: #E2EBFA;\n",
              "      box-shadow: 0px 1px 2px rgba(60, 64, 67, 0.3), 0px 1px 3px 1px rgba(60, 64, 67, 0.15);\n",
              "      fill: #174EA6;\n",
              "    }\n",
              "\n",
              "    .colab-df-buttons div {\n",
              "      margin-bottom: 4px;\n",
              "    }\n",
              "\n",
              "    [theme=dark] .colab-df-convert {\n",
              "      background-color: #3B4455;\n",
              "      fill: #D2E3FC;\n",
              "    }\n",
              "\n",
              "    [theme=dark] .colab-df-convert:hover {\n",
              "      background-color: #434B5C;\n",
              "      box-shadow: 0px 1px 3px 1px rgba(0, 0, 0, 0.15);\n",
              "      filter: drop-shadow(0px 1px 2px rgba(0, 0, 0, 0.3));\n",
              "      fill: #FFFFFF;\n",
              "    }\n",
              "  </style>\n",
              "\n",
              "    <script>\n",
              "      const buttonEl =\n",
              "        document.querySelector('#df-2a7cbf03-0e33-4393-a64e-039b52266fa9 button.colab-df-convert');\n",
              "      buttonEl.style.display =\n",
              "        google.colab.kernel.accessAllowed ? 'block' : 'none';\n",
              "\n",
              "      async function convertToInteractive(key) {\n",
              "        const element = document.querySelector('#df-2a7cbf03-0e33-4393-a64e-039b52266fa9');\n",
              "        const dataTable =\n",
              "          await google.colab.kernel.invokeFunction('convertToInteractive',\n",
              "                                                    [key], {});\n",
              "        if (!dataTable) return;\n",
              "\n",
              "        const docLinkHtml = 'Like what you see? Visit the ' +\n",
              "          '<a target=\"_blank\" href=https://colab.research.google.com/notebooks/data_table.ipynb>data table notebook</a>'\n",
              "          + ' to learn more about interactive tables.';\n",
              "        element.innerHTML = '';\n",
              "        dataTable['output_type'] = 'display_data';\n",
              "        await google.colab.output.renderOutput(dataTable, element);\n",
              "        const docLink = document.createElement('div');\n",
              "        docLink.innerHTML = docLinkHtml;\n",
              "        element.appendChild(docLink);\n",
              "      }\n",
              "    </script>\n",
              "  </div>\n",
              "\n",
              "\n",
              "<div id=\"df-6cf74f0c-49e3-4c90-b6e1-7de4a7bd74a5\">\n",
              "  <button class=\"colab-df-quickchart\" onclick=\"quickchart('df-6cf74f0c-49e3-4c90-b6e1-7de4a7bd74a5')\"\n",
              "            title=\"Suggest charts\"\n",
              "            style=\"display:none;\">\n",
              "\n",
              "<svg xmlns=\"http://www.w3.org/2000/svg\" height=\"24px\"viewBox=\"0 0 24 24\"\n",
              "     width=\"24px\">\n",
              "    <g>\n",
              "        <path d=\"M19 3H5c-1.1 0-2 .9-2 2v14c0 1.1.9 2 2 2h14c1.1 0 2-.9 2-2V5c0-1.1-.9-2-2-2zM9 17H7v-7h2v7zm4 0h-2V7h2v10zm4 0h-2v-4h2v4z\"/>\n",
              "    </g>\n",
              "</svg>\n",
              "  </button>\n",
              "\n",
              "<style>\n",
              "  .colab-df-quickchart {\n",
              "      --bg-color: #E8F0FE;\n",
              "      --fill-color: #1967D2;\n",
              "      --hover-bg-color: #E2EBFA;\n",
              "      --hover-fill-color: #174EA6;\n",
              "      --disabled-fill-color: #AAA;\n",
              "      --disabled-bg-color: #DDD;\n",
              "  }\n",
              "\n",
              "  [theme=dark] .colab-df-quickchart {\n",
              "      --bg-color: #3B4455;\n",
              "      --fill-color: #D2E3FC;\n",
              "      --hover-bg-color: #434B5C;\n",
              "      --hover-fill-color: #FFFFFF;\n",
              "      --disabled-bg-color: #3B4455;\n",
              "      --disabled-fill-color: #666;\n",
              "  }\n",
              "\n",
              "  .colab-df-quickchart {\n",
              "    background-color: var(--bg-color);\n",
              "    border: none;\n",
              "    border-radius: 50%;\n",
              "    cursor: pointer;\n",
              "    display: none;\n",
              "    fill: var(--fill-color);\n",
              "    height: 32px;\n",
              "    padding: 0;\n",
              "    width: 32px;\n",
              "  }\n",
              "\n",
              "  .colab-df-quickchart:hover {\n",
              "    background-color: var(--hover-bg-color);\n",
              "    box-shadow: 0 1px 2px rgba(60, 64, 67, 0.3), 0 1px 3px 1px rgba(60, 64, 67, 0.15);\n",
              "    fill: var(--button-hover-fill-color);\n",
              "  }\n",
              "\n",
              "  .colab-df-quickchart-complete:disabled,\n",
              "  .colab-df-quickchart-complete:disabled:hover {\n",
              "    background-color: var(--disabled-bg-color);\n",
              "    fill: var(--disabled-fill-color);\n",
              "    box-shadow: none;\n",
              "  }\n",
              "\n",
              "  .colab-df-spinner {\n",
              "    border: 2px solid var(--fill-color);\n",
              "    border-color: transparent;\n",
              "    border-bottom-color: var(--fill-color);\n",
              "    animation:\n",
              "      spin 1s steps(1) infinite;\n",
              "  }\n",
              "\n",
              "  @keyframes spin {\n",
              "    0% {\n",
              "      border-color: transparent;\n",
              "      border-bottom-color: var(--fill-color);\n",
              "      border-left-color: var(--fill-color);\n",
              "    }\n",
              "    20% {\n",
              "      border-color: transparent;\n",
              "      border-left-color: var(--fill-color);\n",
              "      border-top-color: var(--fill-color);\n",
              "    }\n",
              "    30% {\n",
              "      border-color: transparent;\n",
              "      border-left-color: var(--fill-color);\n",
              "      border-top-color: var(--fill-color);\n",
              "      border-right-color: var(--fill-color);\n",
              "    }\n",
              "    40% {\n",
              "      border-color: transparent;\n",
              "      border-right-color: var(--fill-color);\n",
              "      border-top-color: var(--fill-color);\n",
              "    }\n",
              "    60% {\n",
              "      border-color: transparent;\n",
              "      border-right-color: var(--fill-color);\n",
              "    }\n",
              "    80% {\n",
              "      border-color: transparent;\n",
              "      border-right-color: var(--fill-color);\n",
              "      border-bottom-color: var(--fill-color);\n",
              "    }\n",
              "    90% {\n",
              "      border-color: transparent;\n",
              "      border-bottom-color: var(--fill-color);\n",
              "    }\n",
              "  }\n",
              "</style>\n",
              "\n",
              "  <script>\n",
              "    async function quickchart(key) {\n",
              "      const quickchartButtonEl =\n",
              "        document.querySelector('#' + key + ' button');\n",
              "      quickchartButtonEl.disabled = true;  // To prevent multiple clicks.\n",
              "      quickchartButtonEl.classList.add('colab-df-spinner');\n",
              "      try {\n",
              "        const charts = await google.colab.kernel.invokeFunction(\n",
              "            'suggestCharts', [key], {});\n",
              "      } catch (error) {\n",
              "        console.error('Error during call to suggestCharts:', error);\n",
              "      }\n",
              "      quickchartButtonEl.classList.remove('colab-df-spinner');\n",
              "      quickchartButtonEl.classList.add('colab-df-quickchart-complete');\n",
              "    }\n",
              "    (() => {\n",
              "      let quickchartButtonEl =\n",
              "        document.querySelector('#df-6cf74f0c-49e3-4c90-b6e1-7de4a7bd74a5 button');\n",
              "      quickchartButtonEl.style.display =\n",
              "        google.colab.kernel.accessAllowed ? 'block' : 'none';\n",
              "    })();\n",
              "  </script>\n",
              "</div>\n",
              "    </div>\n",
              "  </div>\n"
            ]
          },
          "metadata": {},
          "execution_count": 3
        }
      ],
      "source": [
        "X = dataset.drop(\"label\", axis = 1)\n",
        "X"
      ]
    },
    {
      "cell_type": "code",
      "execution_count": 4,
      "id": "87598cd2-536c-4b5b-9512-54fffe3975ff",
      "metadata": {
        "colab": {
          "base_uri": "https://localhost:8080/"
        },
        "id": "87598cd2-536c-4b5b-9512-54fffe3975ff",
        "outputId": "936e4b3f-8175-4f8c-b1ea-4420c3231a91"
      },
      "outputs": [
        {
          "output_type": "execute_result",
          "data": {
            "text/plain": [
              "0       0\n",
              "1       0\n",
              "2       0\n",
              "3       0\n",
              "4       0\n",
              "       ..\n",
              "3595    2\n",
              "3596    2\n",
              "3597    2\n",
              "3598    2\n",
              "3599    2\n",
              "Name: label, Length: 3600, dtype: int64"
            ]
          },
          "metadata": {},
          "execution_count": 4
        }
      ],
      "source": [
        "y = dataset['label'] -1\n",
        "y"
      ]
    },
    {
      "cell_type": "markdown",
      "id": "8608c3a0-226a-4e94-ae15-829b32e4b39a",
      "metadata": {
        "id": "8608c3a0-226a-4e94-ae15-829b32e4b39a"
      },
      "source": [
        "## Train, test, val split"
      ]
    },
    {
      "cell_type": "code",
      "execution_count": 5,
      "id": "46d6f0af-c966-40a5-b160-d163d8770f26",
      "metadata": {
        "id": "46d6f0af-c966-40a5-b160-d163d8770f26"
      },
      "outputs": [],
      "source": [
        "X_train_val, X_test, y_train_val, y_test = train_test_split(X, y, test_size=0.20, random_state=42, stratify = y)"
      ]
    },
    {
      "cell_type": "code",
      "execution_count": 6,
      "id": "724efab3-4851-46be-a465-b0b8988bb8a2",
      "metadata": {
        "id": "724efab3-4851-46be-a465-b0b8988bb8a2"
      },
      "outputs": [],
      "source": [
        "X_train, X_val, y_train, y_val = train_test_split(X_train_val, y_train_val, test_size = 0.25, random_state = 42, stratify = y_train_val)"
      ]
    },
    {
      "cell_type": "code",
      "execution_count": 7,
      "id": "e26de732-a724-496b-a612-71e32d1f1b4c",
      "metadata": {
        "colab": {
          "base_uri": "https://localhost:8080/",
          "height": 489
        },
        "id": "e26de732-a724-496b-a612-71e32d1f1b4c",
        "outputId": "0a31d00c-7bec-425b-ae07-e6aaa4603c4a"
      },
      "outputs": [
        {
          "output_type": "stream",
          "name": "stderr",
          "text": [
            "WARNING:matplotlib.legend:No artists with labels found to put in legend.  Note that artists whose label start with an underscore are ignored when legend() is called with no argument.\n"
          ]
        },
        {
          "output_type": "display_data",
          "data": {
            "text/plain": [
              "<Figure size 640x480 with 1 Axes>"
            ],
            "image/png": "[encoded data removed]"
          },
          "metadata": {}
        }
      ],
      "source": [
        "plt.hist([y_train, y_val, y_test])\n",
        "\n",
        "# Ajoute des étiquettes et une légende\n",
        "plt.xlabel('Classes')\n",
        "plt.ylabel('Nombre d\\'occurrences')\n",
        "plt.title('Distribution des classes dans y_train, y_val et y_test')\n",
        "plt.legend()\n",
        "\n",
        "# Affiche l'histogramme\n",
        "plt.show()"
      ]
    },
    {
      "cell_type": "code",
      "execution_count": 8,
      "id": "27fac687-9cc8-40d2-8167-ac8cc3f318bc",
      "metadata": {
        "colab": {
          "base_uri": "https://localhost:8080/"
        },
        "id": "27fac687-9cc8-40d2-8167-ac8cc3f318bc",
        "outputId": "95d92b24-d2ca-4fae-b04b-d3dcd46de667"
      },
      "outputs": [
        {
          "output_type": "execute_result",
          "data": {
            "text/plain": [
              "(2160, 2500)"
            ]
          },
          "metadata": {},
          "execution_count": 8
        }
      ],
      "source": [
        "X_train.shape"
      ]
    },
    {
      "cell_type": "code",
      "execution_count": 9,
      "id": "a35c20f1-eb3b-4eec-97cf-e16e69f66c6e",
      "metadata": {
        "id": "a35c20f1-eb3b-4eec-97cf-e16e69f66c6e"
      },
      "outputs": [],
      "source": [
        "X_train_reshaped = np.repeat(X_train.values.reshape(-1, 50, 50, 1), 3, axis=-1)\n",
        "X_val_reshaped = np.repeat(X_val.values.reshape(-1, 50, 50, 1), 3, axis=-1)\n",
        "X_test_reshaped = np.repeat(X_test.values.reshape(-1, 50, 50, 1), 3, axis=-1)"
      ]
    },
    {
      "cell_type": "code",
      "execution_count": 10,
      "id": "01fe92af-7dda-44a3-aafc-69e5e7579291",
      "metadata": {
        "colab": {
          "base_uri": "https://localhost:8080/"
        },
        "id": "01fe92af-7dda-44a3-aafc-69e5e7579291",
        "outputId": "78f1b41f-2edf-496e-ab3e-e69ecd953cbe"
      },
      "outputs": [
        {
          "output_type": "execute_result",
          "data": {
            "text/plain": [
              "(2160, 50, 50, 3)"
            ]
          },
          "metadata": {},
          "execution_count": 10
        }
      ],
      "source": [
        "X_train_reshaped.shape"
      ]
    },
    {
      "cell_type": "code",
      "source": [
        "y_train_one = tf.keras.utils.to_categorical(y_train, 3)\n",
        "y_val_one = tf.keras.utils.to_categorical(y_val, 3)\n",
        "y_test_one = tf.keras.utils.to_categorical(y_test, 3)"
      ],
      "metadata": {
        "id": "qg5ns7W-0xJC"
      },
      "id": "qg5ns7W-0xJC",
      "execution_count": 11,
      "outputs": []
    },
    {
      "cell_type": "markdown",
      "id": "157a0861-e990-4f2b-b4e2-5191d60d2539",
      "metadata": {
        "id": "157a0861-e990-4f2b-b4e2-5191d60d2539"
      },
      "source": [
        "# Entrainement du modèle"
      ]
    },
    {
      "cell_type": "markdown",
      "id": "2e756b46-ccf1-4b59-b269-cc6de38d4a03",
      "metadata": {
        "id": "2e756b46-ccf1-4b59-b269-cc6de38d4a03"
      },
      "source": [
        "## VGG16"
      ]
    },
    {
      "cell_type": "code",
      "execution_count": 12,
      "id": "29d9eafe-c9e2-42d5-8b99-99908a1c8453",
      "metadata": {
        "id": "29d9eafe-c9e2-42d5-8b99-99908a1c8453",
        "colab": {
          "base_uri": "https://localhost:8080/"
        },
        "outputId": "23f122ec-04a3-4c3c-f7d9-e7817d5cf730"
      },
      "outputs": [
        {
          "output_type": "stream",
          "name": "stdout",
          "text": [
            "Downloading data from https://storage.googleapis.com/tensorflow/keras-applications/vgg16/vgg16_weights_tf_dim_ordering_tf_kernels_notop.h5\n",
            "58889256/58889256 [==============================] - 1s 0us/step\n"
          ]
        }
      ],
      "source": [
        "vgg16_model = VGG16(weights='imagenet', include_top=False, input_shape=(50, 50, 3))\n",
        "\n",
        "for layer in vgg16_model.layers:\n",
        "    layer.trainable = False"
      ]
    },
    {
      "cell_type": "markdown",
      "id": "24db97d6-f84c-47d9-809e-99f4e3f331f5",
      "metadata": {
        "id": "24db97d6-f84c-47d9-809e-99f4e3f331f5"
      },
      "source": [
        "## Datagen"
      ]
    },
    {
      "cell_type": "code",
      "execution_count": 13,
      "id": "40cdf8a5-5fbe-4885-a343-be88e69104ce",
      "metadata": {
        "id": "40cdf8a5-5fbe-4885-a343-be88e69104ce"
      },
      "outputs": [],
      "source": [
        "datagen = tf.keras.preprocessing.image.ImageDataGenerator(\n",
        "    preprocessing_function = preprocess_input,\n",
        "    rotation_range=90,\n",
        "    width_shift_range=0.2,\n",
        "    height_shift_range=0.2,\n",
        "    brightness_range=(0.5,1.5),\n",
        "    zoom_range=0.2,\n",
        "    horizontal_flip=True,\n",
        "    vertical_flip=True,\n",
        ")"
      ]
    },
    {
      "cell_type": "markdown",
      "id": "519b3b13-fe34-4981-9a30-9298753e8660",
      "metadata": {
        "id": "519b3b13-fe34-4981-9a30-9298753e8660"
      },
      "source": [
        "## Entrainement du modèle"
      ]
    },
    {
      "cell_type": "code",
      "execution_count": 14,
      "id": "ef8a5847-46cd-45be-81ff-e15d8dedce5b",
      "metadata": {
        "id": "ef8a5847-46cd-45be-81ff-e15d8dedce5b"
      },
      "outputs": [],
      "source": [
        "X_val_pp = preprocess_input(X_val_reshaped)\n",
        "X_test_pp = preprocess_input(X_test_reshaped)"
      ]
    },
    {
      "cell_type": "code",
      "execution_count": 19,
      "id": "3a2f9c64-3407-4dfe-8bad-bf2e8b51abba",
      "metadata": {
        "id": "3a2f9c64-3407-4dfe-8bad-bf2e8b51abba"
      },
      "outputs": [],
      "source": [
        "tf.random.set_seed(42)\n",
        "\n",
        "model = tf.keras.Sequential([\n",
        "    vgg16_model,\n",
        "    tf.keras.layers.Flatten(),\n",
        "    tf.keras.layers.Dense(units=256, activation='relu'),\n",
        "    tf.keras.layers.Dense(units=3, activation='softmax')\n",
        "])"
      ]
    },
    {
      "cell_type": "code",
      "execution_count": 20,
      "id": "c114dd66-434d-421e-9e14-7c4a7dceb726",
      "metadata": {
        "colab": {
          "base_uri": "https://localhost:8080/"
        },
        "id": "c114dd66-434d-421e-9e14-7c4a7dceb726",
        "outputId": "b69e2673-f235-4be4-a101-f09d3e54adc2"
      },
      "outputs": [
        {
          "output_type": "stream",
          "name": "stdout",
          "text": [
            "Model: \"sequential_1\"\n",
            "_________________________________________________________________\n",
            " Layer (type)                Output Shape              Param #   \n",
            "=================================================================\n",
            " vgg16 (Functional)          (None, 1, 1, 512)         14714688  \n",
            "                                                                 \n",
            " flatten_1 (Flatten)         (None, 512)               0         \n",
            "                                                                 \n",
            " dense_2 (Dense)             (None, 256)               131328    \n",
            "                                                                 \n",
            " dense_3 (Dense)             (None, 3)                 771       \n",
            "                                                                 \n",
            "=================================================================\n",
            "Total params: 14846787 (56.64 MB)\n",
            "Trainable params: 132099 (516.01 KB)\n",
            "Non-trainable params: 14714688 (56.13 MB)\n",
            "_________________________________________________________________\n"
          ]
        }
      ],
      "source": [
        "model.summary()"
      ]
    },
    {
      "cell_type": "code",
      "execution_count": 21,
      "id": "86d77564-cc00-46a8-8979-89e0d2856e23",
      "metadata": {
        "id": "86d77564-cc00-46a8-8979-89e0d2856e23"
      },
      "outputs": [],
      "source": [
        "model.compile(\n",
        "    loss = 'categorical_crossentropy',\n",
        "    optimizer = tf.keras.optimizers.Adam(learning_rate = 0.001),\n",
        "    metrics = [\n",
        "        tf.keras.metrics.BinaryAccuracy(name = 'accuracy'),\n",
        "        tf.keras.metrics.Precision(name = 'precision'),\n",
        "        tf.keras.metrics.Recall(name = 'recall')\n",
        "    ]\n",
        ")"
      ]
    },
    {
      "cell_type": "code",
      "execution_count": 22,
      "id": "75c9ba51-4d05-47ae-9de0-83669a287273",
      "metadata": {
        "colab": {
          "base_uri": "https://localhost:8080/"
        },
        "id": "75c9ba51-4d05-47ae-9de0-83669a287273",
        "outputId": "96d6f2c6-b555-4a06-c8a8-3772bf906b9b"
      },
      "outputs": [
        {
          "output_type": "stream",
          "name": "stdout",
          "text": [
            "Epoch 1/10\n",
            "1/1 [==============================] - 10s 10s/step - loss: 10.1520 - accuracy: 0.5014 - precision: 0.2494 - recall: 0.2468 - val_loss: 14.4475 - val_accuracy: 0.4583 - val_precision: 0.1875 - val_recall: 0.1875\n",
            "Epoch 2/10\n",
            "1/1 [==============================] - 3s 3s/step - loss: 5.7872 - accuracy: 0.5750 - precision: 0.3603 - recall: 0.3546 - val_loss: 6.5592 - val_accuracy: 0.5028 - val_precision: 0.2542 - val_recall: 0.2542\n",
            "Epoch 3/10\n",
            "1/1 [==============================] - 5s 5s/step - loss: 3.7402 - accuracy: 0.6480 - precision: 0.4717 - recall: 0.4667 - val_loss: 1.8757 - val_accuracy: 0.7551 - val_precision: 0.6328 - val_recall: 0.6319\n",
            "Epoch 4/10\n",
            "1/1 [==============================] - 3s 3s/step - loss: 2.2793 - accuracy: 0.7394 - precision: 0.6102 - recall: 0.6037 - val_loss: 0.2601 - val_accuracy: 0.9227 - val_precision: 0.8867 - val_recall: 0.8806\n",
            "Epoch 5/10\n",
            "1/1 [==============================] - 3s 3s/step - loss: 1.1459 - accuracy: 0.8315 - precision: 0.7488 - recall: 0.7440 - val_loss: 0.0261 - val_accuracy: 0.9949 - val_precision: 0.9930 - val_recall: 0.9917\n",
            "Epoch 6/10\n",
            "1/1 [==============================] - 4s 4s/step - loss: 0.7311 - accuracy: 0.8929 - precision: 0.8419 - recall: 0.8356 - val_loss: 0.0160 - val_accuracy: 0.9954 - val_precision: 0.9931 - val_recall: 0.9931\n",
            "Epoch 7/10\n",
            "1/1 [==============================] - 4s 4s/step - loss: 0.5366 - accuracy: 0.9185 - precision: 0.8792 - recall: 0.8759 - val_loss: 0.0184 - val_accuracy: 0.9935 - val_precision: 0.9903 - val_recall: 0.9903\n",
            "Epoch 8/10\n",
            "1/1 [==============================] - 3s 3s/step - loss: 0.5636 - accuracy: 0.9278 - precision: 0.8924 - recall: 0.8907 - val_loss: 0.0189 - val_accuracy: 0.9926 - val_precision: 0.9889 - val_recall: 0.9889\n",
            "Epoch 9/10\n",
            "1/1 [==============================] - 4s 4s/step - loss: 0.4097 - accuracy: 0.9461 - precision: 0.9202 - recall: 0.9181 - val_loss: 0.0140 - val_accuracy: 0.9954 - val_precision: 0.9931 - val_recall: 0.9931\n",
            "Epoch 10/10\n",
            "1/1 [==============================] - 4s 4s/step - loss: 0.4355 - accuracy: 0.9498 - precision: 0.9258 - recall: 0.9236 - val_loss: 0.0095 - val_accuracy: 0.9963 - val_precision: 0.9944 - val_recall: 0.9944\n"
          ]
        }
      ],
      "source": [
        "history = model.fit(datagen.flow(X_train_reshaped, y_train_one, batch_size=2160), epochs=10, validation_data=(X_val_pp, y_val_one), verbose=1)"
      ]
    },
    {
      "cell_type": "code",
      "execution_count": null,
      "id": "588515c8-77df-48d9-ae99-7244421b2812",
      "metadata": {
        "id": "588515c8-77df-48d9-ae99-7244421b2812"
      },
      "outputs": [],
      "source": [
        "# Performances du modèle"
      ]
    },
    {
      "cell_type": "code",
      "source": [
        "import matplotlib.pyplot as plt\n",
        "from matplotlib import rcParams\n",
        "\n",
        "rcParams['figure.figsize'] = (18, 8)\n",
        "rcParams['axes.spines.top'] = False\n",
        "rcParams['axes.spines.right'] = False\n",
        "\n",
        "plt.plot(np.arange(1, 11), history.history['loss'], label='Loss')\n",
        "plt.plot(np.arange(1, 11), history.history['val_loss'], label='Val_Loss')\n",
        "\n",
        "plt.title('Evaluation metrics', size=20)\n",
        "plt.xlabel('Epoch', size=14)\n",
        "plt.legend();"
      ],
      "metadata": {
        "colab": {
          "base_uri": "https://localhost:8080/",
          "height": 731
        },
        "id": "L2oYJAfx2Wc6",
        "outputId": "8987504a-dad7-484f-88fc-aaf6b7ade595"
      },
      "id": "L2oYJAfx2Wc6",
      "execution_count": 23,
      "outputs": [
        {
          "output_type": "display_data",
          "data": {
            "text/plain": [
              "<Figure size 1800x800 with 1 Axes>"
            ],
            "image/png": "[encoded data removed]"
          },
          "metadata": {}
        }
      ]
    },
    {
      "cell_type": "code",
      "source": [
        "import matplotlib.pyplot as plt\n",
        "from matplotlib import rcParams\n",
        "\n",
        "rcParams['figure.figsize'] = (18, 8)\n",
        "rcParams['axes.spines.top'] = False\n",
        "rcParams['axes.spines.right'] = False\n",
        "\n",
        "plt.plot(np.arange(1, 11), history.history['accuracy'], label='Accuracy')\n",
        "plt.plot(np.arange(1, 11), history.history['precision'], label='Precision')\n",
        "plt.plot(np.arange(1, 11), history.history['recall'], label='Recall')\n",
        "plt.plot(np.arange(1, 11), history.history['val_accuracy'], label='val_Accuracy')\n",
        "plt.plot(np.arange(1, 11), history.history['val_precision'], label='val_Precision')\n",
        "plt.plot(np.arange(1, 11), history.history['val_recall'], label='val_Recall')\n",
        "plt.title('Evaluation metrics', size=20)\n",
        "plt.xlabel('Epoch', size=14)\n",
        "plt.legend();"
      ],
      "metadata": {
        "colab": {
          "base_uri": "https://localhost:8080/",
          "height": 731
        },
        "id": "Vp1p4NeY2bIy",
        "outputId": "9a5d4cfb-6128-49dc-eb13-10859b1b6ae6"
      },
      "id": "Vp1p4NeY2bIy",
      "execution_count": 24,
      "outputs": [
        {
          "output_type": "display_data",
          "data": {
            "text/plain": [
              "<Figure size 1800x800 with 1 Axes>"
            ],
            "image/png": "[encoded data removed]"
          },
          "metadata": {}
        }
      ]
    },
    {
      "cell_type": "code",
      "source": [
        "# Evaluation du modèle"
      ],
      "metadata": {
        "id": "h0wKia9Q2jvo"
      },
      "id": "h0wKia9Q2jvo",
      "execution_count": null,
      "outputs": []
    },
    {
      "cell_type": "code",
      "source": [
        "X_train_pp = preprocess_input(X_train_reshaped) # Preprocess\n",
        "y_pred_train = model.predict(X_train_pp)\n",
        "y_pred_val = model.predict(X_val_pp)\n",
        "y_pred_test = model.predict(X_test_pp)"
      ],
      "metadata": {
        "colab": {
          "base_uri": "https://localhost:8080/"
        },
        "id": "wf_6rQZW2uEf",
        "outputId": "698b3d91-8bf7-4b39-953b-2cdb678ab999"
      },
      "id": "wf_6rQZW2uEf",
      "execution_count": 25,
      "outputs": [
        {
          "output_type": "stream",
          "name": "stdout",
          "text": [
            "68/68 [==============================] - 1s 12ms/step\n",
            "23/23 [==============================] - 0s 11ms/step\n",
            "23/23 [==============================] - 0s 11ms/step\n"
          ]
        }
      ]
    },
    {
      "cell_type": "code",
      "source": [
        "# Conversion des probabilités pour l'ensemble d'entraînement\n",
        "y_pred_train_classes = [np.argmax(one_hot_vector) for one_hot_vector in y_pred_train]\n",
        "print(y_pred_train_classes[:20])\n",
        "\n",
        "# Conversion des probabilités pour l'ensemble de validation\n",
        "y_pred_val_classes = [np.argmax(one_hot_vector) for one_hot_vector in y_pred_val]\n",
        "print(y_pred_val_classes[:20])\n",
        "\n",
        "# Conversion des probabilités pour l'ensemble de test\n",
        "y_pred_test_classes = [np.argmax(one_hot_vector) for one_hot_vector in y_pred_test]\n",
        "print(y_pred_test_classes[:20])\n"
      ],
      "metadata": {
        "colab": {
          "base_uri": "https://localhost:8080/"
        },
        "id": "jIZ1sHNO3JFX",
        "outputId": "97e34187-8d27-4362-84d6-2a3763d923a1"
      },
      "id": "jIZ1sHNO3JFX",
      "execution_count": 26,
      "outputs": [
        {
          "output_type": "stream",
          "name": "stdout",
          "text": [
            "[0, 0, 1, 2, 2, 2, 1, 2, 0, 0, 2, 1, 2, 2, 1, 1, 0, 2, 1, 2]\n",
            "[2, 1, 1, 1, 1, 0, 2, 1, 2, 1, 0, 2, 0, 2, 1, 0, 0, 0, 0, 2]\n",
            "[2, 0, 0, 1, 2, 2, 2, 2, 1, 2, 0, 0, 2, 0, 2, 1, 2, 0, 1, 2]\n"
          ]
        }
      ]
    },
    {
      "cell_type": "code",
      "source": [
        "## Evaluation du modèle sur le jeu d'apprentissage"
      ],
      "metadata": {
        "id": "NsVXJlw23XFc"
      },
      "id": "NsVXJlw23XFc",
      "execution_count": null,
      "outputs": []
    },
    {
      "cell_type": "code",
      "source": [
        "# Matrice de confusion pour le jeu d'apprentissage\n",
        "cm = confusion_matrix(y_train, y_pred_train_classes, normalize='true')\n",
        "\n",
        "# Noms des classes (à ajuster selon vos classes)\n",
        "class_names = ['Pierre', 'Feuille', 'Ciseaux']\n",
        "\n",
        "# Comptages bruts dans la matrice de confusion\n",
        "counts = [\"{0:0.0f}\\n\".format(value) for value in confusion_matrix(y_train, y_pred_train_classes, normalize=None).flatten()]\n",
        "\n",
        "# Pourcentages normalisés dans la matrice de confusion\n",
        "percentages = [\"{0:.2%}\".format(value) for value in confusion_matrix(y_train, y_pred_train_classes, normalize='true').flatten()]\n",
        "\n",
        "# Labels des cases avec noms, comptages bruts et pourcentages\n",
        "box_labels = [[f\"{v1}\\n{v2}{v3}\" for v1, v2, v3 in zip(class_names, counts, percentages)]]\n",
        "\n",
        "# Création de la figure\n",
        "plt.figure(figsize=(10, 8), dpi=100)\n",
        "\n",
        "# Titre\n",
        "plt.title(\"Matrice de confusion (jeu d'apprentissage)\")\n",
        "\n",
        "# Création de la heatmap\n",
        "sns.heatmap(cm,\n",
        "            vmin=0.0,\n",
        "            vmax=1.0,\n",
        "            cmap='Blues',\n",
        "            annot=True,\n",
        "            fmt='',\n",
        "            xticklabels=class_names,\n",
        "            yticklabels=class_names)\n",
        "\n",
        "# Labels des axes\n",
        "plt.xlabel(\"Valeurs prédites\")\n",
        "plt.ylabel(\"Valeurs réelles\")\n",
        "\n",
        "# Affichage de la figure\n",
        "plt.show()\n"
      ],
      "metadata": {
        "colab": {
          "base_uri": "https://localhost:8080/",
          "height": 719
        },
        "id": "u-DEONK73bU8",
        "outputId": "1bb8bc13-075c-4a7d-96a4-e05b70b32d15"
      },
      "id": "u-DEONK73bU8",
      "execution_count": 27,
      "outputs": [
        {
          "output_type": "display_data",
          "data": {
            "text/plain": [
              "<Figure size 1000x800 with 2 Axes>"
            ],
            "image/png": "[encoded data removed]"
          },
          "metadata": {}
        }
      ]
    },
    {
      "cell_type": "code",
      "source": [
        "# Accuracy, Precision et Recall du train\n",
        "print(f'Accuracy train:  {accuracy_score(y_train, y_pred_train_classes):.2f}')\n",
        "print(f'Precision train: {precision_score(y_train, y_pred_train_classes, average=None)}')\n",
        "print(f'Recall train:    {recall_score(y_train, y_pred_train_classes, average=None)}')\n"
      ],
      "metadata": {
        "colab": {
          "base_uri": "https://localhost:8080/"
        },
        "id": "TrozjnjK3tzx",
        "outputId": "5594e8ac-427e-4b38-8ce2-08bfe941871b"
      },
      "id": "TrozjnjK3tzx",
      "execution_count": 28,
      "outputs": [
        {
          "output_type": "stream",
          "name": "stdout",
          "text": [
            "Accuracy train:  1.00\n",
            "Precision train: [1.         1.         0.99037139]\n",
            "Recall train:    [1.         0.99027778 1.        ]\n"
          ]
        }
      ]
    },
    {
      "cell_type": "code",
      "source": [
        "print(classification_report(y_train, y_pred_train_classes))"
      ],
      "metadata": {
        "colab": {
          "base_uri": "https://localhost:8080/"
        },
        "id": "E9rXLIl434xE",
        "outputId": "cc80aa67-7a34-4491-dcae-dbc0b845ae82"
      },
      "id": "E9rXLIl434xE",
      "execution_count": 29,
      "outputs": [
        {
          "output_type": "stream",
          "name": "stdout",
          "text": [
            "              precision    recall  f1-score   support\n",
            "\n",
            "           0       1.00      1.00      1.00       720\n",
            "           1       1.00      0.99      1.00       720\n",
            "           2       0.99      1.00      1.00       720\n",
            "\n",
            "    accuracy                           1.00      2160\n",
            "   macro avg       1.00      1.00      1.00      2160\n",
            "weighted avg       1.00      1.00      1.00      2160\n",
            "\n"
          ]
        }
      ]
    },
    {
      "cell_type": "code",
      "source": [
        "## Evaluation sur le jeu de validation"
      ],
      "metadata": {
        "id": "l7VQVJSb37fA"
      },
      "id": "l7VQVJSb37fA",
      "execution_count": null,
      "outputs": []
    },
    {
      "cell_type": "code",
      "source": [
        "# Matrice de confusion du jeu de validation\n",
        "cm = confusion_matrix(y_val, y_pred_val_classes, normalize='true')\n",
        "\n",
        "# Noms des classes (à ajuster selon vos classes)\n",
        "class_names = ['Pierre', 'Feuille', 'Ciseaux']\n",
        "\n",
        "# Comptages bruts dans la matrice de confusion\n",
        "counts = [\"{0:0.0f}\\n\".format(value) for value in confusion_matrix(y_val, y_pred_val_classes, normalize=None).flatten()]\n",
        "\n",
        "# Pourcentages normalisés dans la matrice de confusion\n",
        "percentages = [\"{0:.2%}\".format(value) for value in confusion_matrix(y_val, y_pred_val_classes, normalize='true').flatten()]\n",
        "\n",
        "# Labels des cases avec noms, comptages bruts et pourcentages\n",
        "box_labels = [[f\"{v1}\\n{v2}{v3}\" for v1, v2, v3 in zip(class_names, counts, percentages)]]\n",
        "\n",
        "# Création de la figure\n",
        "plt.figure(figsize=(10, 8), dpi=100)\n",
        "\n",
        "# Titre\n",
        "plt.title(\"Matrice de confusion (jeu de validation)\")\n",
        "\n",
        "# Création de la heatmap\n",
        "sns.heatmap(cm,\n",
        "            vmin=0.0,\n",
        "            vmax=1.0,\n",
        "            cmap='Blues',\n",
        "            annot=True,\n",
        "            fmt='',\n",
        "            xticklabels=class_names,\n",
        "            yticklabels=class_names)\n",
        "\n",
        "# Labels des axes\n",
        "plt.xlabel(\"Valeurs prédites\")\n",
        "plt.ylabel(\"Valeurs réelles\")\n",
        "\n",
        "# Affichage de la figure\n",
        "plt.show()\n"
      ],
      "metadata": {
        "colab": {
          "base_uri": "https://localhost:8080/",
          "height": 719
        },
        "id": "Pj-dbx2c3-JM",
        "outputId": "b3d26421-1243-4fed-e000-41ea711f32cf"
      },
      "id": "Pj-dbx2c3-JM",
      "execution_count": 30,
      "outputs": [
        {
          "output_type": "display_data",
          "data": {
            "text/plain": [
              "<Figure size 1000x800 with 2 Axes>"
            ],
            "image/png": "[encoded data removed]"
          },
          "metadata": {}
        }
      ]
    },
    {
      "cell_type": "code",
      "source": [
        "# Accuracy, Precision et Recall du test\n",
        "print(f'Accuracy val:  {accuracy_score(y_val, y_pred_val_classes):.2f}')\n",
        "print(f'Precision train: {precision_score(y_val, y_pred_val_classes, average=None)}')\n",
        "print(f'Recall train:    {recall_score(y_val, y_pred_val_classes, average=None)}')"
      ],
      "metadata": {
        "colab": {
          "base_uri": "https://localhost:8080/"
        },
        "id": "slwxLmUU4EoR",
        "outputId": "28378e8f-c5e0-4b0f-c105-a64eb6638546"
      },
      "id": "slwxLmUU4EoR",
      "execution_count": 31,
      "outputs": [
        {
          "output_type": "stream",
          "name": "stdout",
          "text": [
            "Accuracy val:  0.99\n",
            "Precision train: [1.         1.         0.98360656]\n",
            "Recall train:    [1.         0.98333333 1.        ]\n"
          ]
        }
      ]
    },
    {
      "cell_type": "code",
      "source": [
        "print(classification_report(y_val, y_pred_val_classes))"
      ],
      "metadata": {
        "colab": {
          "base_uri": "https://localhost:8080/"
        },
        "id": "6bMx1e664J3J",
        "outputId": "59db4eaf-a678-4f19-a0b4-493126cd5109"
      },
      "id": "6bMx1e664J3J",
      "execution_count": 32,
      "outputs": [
        {
          "output_type": "stream",
          "name": "stdout",
          "text": [
            "              precision    recall  f1-score   support\n",
            "\n",
            "           0       1.00      1.00      1.00       240\n",
            "           1       1.00      0.98      0.99       240\n",
            "           2       0.98      1.00      0.99       240\n",
            "\n",
            "    accuracy                           0.99       720\n",
            "   macro avg       0.99      0.99      0.99       720\n",
            "weighted avg       0.99      0.99      0.99       720\n",
            "\n"
          ]
        }
      ]
    },
    {
      "cell_type": "code",
      "source": [
        "## Evaluation sur le jeu de test"
      ],
      "metadata": {
        "id": "-RUKhqUN4Ml8"
      },
      "id": "-RUKhqUN4Ml8",
      "execution_count": null,
      "outputs": []
    },
    {
      "cell_type": "code",
      "source": [
        "# Matrice de confusion du jeu de validation\n",
        "cm = confusion_matrix(y_test, y_pred_test_classes, normalize='true')\n",
        "\n",
        "# Noms des classes (à ajuster selon vos classes)\n",
        "class_names = ['Pierre', 'Feuille', 'Ciseaux']\n",
        "\n",
        "# Comptages bruts dans la matrice de confusion\n",
        "counts = [\"{0:0.0f}\\n\".format(value) for value in confusion_matrix(y_test, y_pred_test_classes, normalize=None).flatten()]\n",
        "\n",
        "# Pourcentages normalisés dans la matrice de confusion\n",
        "percentages = [\"{0:.2%}\".format(value) for value in confusion_matrix(y_test, y_pred_test_classes, normalize='true').flatten()]\n",
        "\n",
        "# Labels des cases avec noms, comptages bruts et pourcentages\n",
        "box_labels = [[f\"{v1}\\n{v2}{v3}\" for v1, v2, v3 in zip(class_names, counts, percentages)]]\n",
        "\n",
        "# Création de la figure\n",
        "plt.figure(figsize=(10, 8), dpi=100)\n",
        "\n",
        "# Titre\n",
        "plt.title(\"Matrice de confusion (jeu de test)\")\n",
        "\n",
        "# Création de la heatmap\n",
        "sns.heatmap(cm,\n",
        "            vmin=0.0,\n",
        "            vmax=1.0,\n",
        "            cmap='Blues',\n",
        "            annot=True,\n",
        "            fmt='',\n",
        "            xticklabels=class_names,\n",
        "            yticklabels=class_names)\n",
        "\n",
        "# Labels des axes\n",
        "plt.xlabel(\"Valeurs prédites\")\n",
        "plt.ylabel(\"Valeurs réelles\")\n",
        "\n",
        "# Affichage de la figure\n",
        "plt.show()\n"
      ],
      "metadata": {
        "colab": {
          "base_uri": "https://localhost:8080/",
          "height": 719
        },
        "id": "G5g_lFYA4OeT",
        "outputId": "18d9d8d7-c14e-4a76-ee44-b19206cd5819"
      },
      "id": "G5g_lFYA4OeT",
      "execution_count": 33,
      "outputs": [
        {
          "output_type": "display_data",
          "data": {
            "text/plain": [
              "<Figure size 1000x800 with 2 Axes>"
            ],
            "image/png": "[encoded data removed]"
          },
          "metadata": {}
        }
      ]
    },
    {
      "cell_type": "code",
      "source": [
        "# Accuracy, Precision et Recall du test\n",
        "print(f'Accuracy val:  {accuracy_score(y_test, y_pred_test_classes):.2f}')\n",
        "print(f'Precision train: {precision_score(y_test, y_pred_test_classes, average=None)}')\n",
        "print(f'Recall train:    {recall_score(y_test, y_pred_test_classes, average=None)}')"
      ],
      "metadata": {
        "colab": {
          "base_uri": "https://localhost:8080/"
        },
        "id": "ZRWJX2pD4Uhp",
        "outputId": "cf58c427-4864-4e58-ffd2-a8a0a90c7210"
      },
      "id": "ZRWJX2pD4Uhp",
      "execution_count": 34,
      "outputs": [
        {
          "output_type": "stream",
          "name": "stdout",
          "text": [
            "Accuracy val:  1.00\n",
            "Precision train: [1.         1.         0.98765432]\n",
            "Recall train:    [1.     0.9875 1.    ]\n"
          ]
        }
      ]
    },
    {
      "cell_type": "code",
      "source": [
        "print(classification_report(y_test, y_pred_test_classes))"
      ],
      "metadata": {
        "colab": {
          "base_uri": "https://localhost:8080/"
        },
        "id": "UCkPShil4bf7",
        "outputId": "08b5fc9a-0300-4510-f1ff-1d1c5c798ba1"
      },
      "id": "UCkPShil4bf7",
      "execution_count": 35,
      "outputs": [
        {
          "output_type": "stream",
          "name": "stdout",
          "text": [
            "              precision    recall  f1-score   support\n",
            "\n",
            "           0       1.00      1.00      1.00       240\n",
            "           1       1.00      0.99      0.99       240\n",
            "           2       0.99      1.00      0.99       240\n",
            "\n",
            "    accuracy                           1.00       720\n",
            "   macro avg       1.00      1.00      1.00       720\n",
            "weighted avg       1.00      1.00      1.00       720\n",
            "\n"
          ]
        }
      ]
    },
    {
      "cell_type": "code",
      "source": [
        "model.save('RPS.h5')"
      ],
      "metadata": {
        "colab": {
          "base_uri": "https://localhost:8080/"
        },
        "id": "WQDYV3rW4e-C",
        "outputId": "7a819acb-d801-44d0-8125-6422233a1c5e"
      },
      "id": "WQDYV3rW4e-C",
      "execution_count": 36,
      "outputs": [
        {
          "output_type": "stream",
          "name": "stderr",
          "text": [
            "/usr/local/lib/python3.10/dist-packages/keras/src/engine/training.py:3103: UserWarning: You are saving your model as an HDF5 file via `model.save()`. This file format is considered legacy. We recommend using instead the native Keras format, e.g. `model.save('my_model.keras')`.\n",
            "  saving_api.save_model(\n"
          ]
        }
      ]
    },
    {
      "cell_type": "code",
      "source": [],
      "metadata": {
        "id": "xQZiYWYG5-TO"
      },
      "id": "xQZiYWYG5-TO",
      "execution_count": null,
      "outputs": []
    }
  ],
  "metadata": {
    "kernelspec": {
      "display_name": "Python 3",
      "name": "python3"
    },
    "language_info": {
      "codemirror_mode": {
        "name": "ipython",
        "version": 3
      },
      "file_extension": ".py",
      "mimetype": "text/x-python",
      "name": "python",
      "nbconvert_exporter": "python",
      "pygments_lexer": "ipython3",
      "version": "3.8.18"
    },
    "colab": {
      "provenance": [],
      "gpuType": "T4"
    },
    "accelerator": "GPU"
  },
  "nbformat": 4,
  "nbformat_minor": 5
}